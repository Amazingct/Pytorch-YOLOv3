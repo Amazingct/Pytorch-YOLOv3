{
 "cells": [
  {
   "cell_type": "code",
   "execution_count": 1,
   "id": "c975dbc6",
   "metadata": {},
   "outputs": [
    {
     "name": "stdout",
     "output_type": "stream",
     "text": [
      "Collecting sip\n",
      "  Downloading sip-6.5.1-cp36-abi3-manylinux2014_x86_64.whl (982 kB)\n",
      "\u001b[K     |████████████████████████████████| 982 kB 411 kB/s eta 0:00:01\n",
      "\u001b[?25hRequirement already satisfied: packaging in /home/amazing/anaconda3/envs/pytorchAI/lib/python3.9/site-packages (from sip) (21.3)\n",
      "Requirement already satisfied: setuptools in /home/amazing/anaconda3/envs/pytorchAI/lib/python3.9/site-packages (from sip) (58.0.4)\n",
      "Requirement already satisfied: toml in /home/amazing/anaconda3/envs/pytorchAI/lib/python3.9/site-packages (from sip) (0.10.2)\n",
      "Requirement already satisfied: pyparsing!=3.0.5,>=2.0.2 in /home/amazing/anaconda3/envs/pytorchAI/lib/python3.9/site-packages (from packaging->sip) (2.4.7)\n",
      "Installing collected packages: sip\n",
      "Successfully installed sip-6.5.1\n",
      "Collecting pyqt5\n",
      "  Using cached PyQt5-5.15.6-cp36-abi3-manylinux1_x86_64.whl (8.3 MB)\n",
      "Collecting PyQt5-Qt5>=5.15.2\n",
      "  Using cached PyQt5_Qt5-5.15.2-py3-none-manylinux2014_x86_64.whl (59.9 MB)\n",
      "Collecting PyQt5-sip<13,>=12.8\n",
      "  Downloading PyQt5_sip-12.9.1-cp39-cp39-manylinux1_x86_64.whl (349 kB)\n",
      "\u001b[K     |████████████████████████████████| 349 kB 381 kB/s eta 0:00:01\n",
      "\u001b[?25hInstalling collected packages: PyQt5-sip, PyQt5-Qt5, pyqt5\n",
      "Successfully installed PyQt5-Qt5-5.15.2 PyQt5-sip-12.9.1 pyqt5-5.15.6\n"
     ]
    }
   ],
   "source": [
    "!pip install sip\n",
    "!pip install pyqt5"
   ]
  },
  {
   "cell_type": "code",
   "execution_count": 1,
   "id": "22be2fb9",
   "metadata": {},
   "outputs": [
    {
     "name": "stderr",
     "output_type": "stream",
     "text": [
      "mkdir: cannot create directory ‘label_code’: File exists\n",
      "fatal: destination path 'label_code' already exists and is not an empty directory.\n"
     ]
    },
    {
     "data": {
      "text/plain": [
       "32768"
      ]
     },
     "execution_count": 1,
     "metadata": {},
     "output_type": "execute_result"
    }
   ],
   "source": [
    "\n",
    "import os\n",
    "LABELIMG_PATH = 'label_code'\n",
    "\n",
    "# Clone Tzutalin Label Image Script\n",
    "os.system('mkdir {}'.format(LABELIMG_PATH))\n",
    "\n",
    "os.system(\"git clone https://github.com/tzutalin/labelImg {}\".format(LABELIMG_PATH))\n",
    "\n"
   ]
  },
  {
   "cell_type": "code",
   "execution_count": 4,
   "id": "c7c76198",
   "metadata": {},
   "outputs": [
    {
     "name": "stdout",
     "output_type": "stream",
     "text": [
      "[('goal_post', [(1034, 137), (1238, 137), (1238, 256), (1034, 256)], None, None, False)]\n",
      "[('goal_post', [(3, 191), (290, 191), (290, 316), (3, 316)], None, None, False)]\n",
      "[('goal_post', [(639, 198), (935, 198), (935, 350), (639, 350)], None, None, False)]\n",
      "[('goal_post', [(188, 106), (451, 106), (451, 232), (188, 232)], None, None, False)]\n",
      "[('goal_post', [(639, 198), (935, 198), (935, 350), (639, 350)], None, None, False)]\n",
      "[('goal_post', [(84, 95), (253, 95), (253, 189), (84, 189)], None, None, False)]\n",
      "[('goal_post', [(627, 472), (1280, 472), (1280, 720), (627, 720)], None, None, False)]\n",
      "[('goal_post', [(895, 195), (1074, 195), (1074, 315), (895, 315)], None, None, False)]\n",
      "[('goal_post', [(1093, 160), (1280, 160), (1280, 372), (1093, 372)], None, None, False)]\n",
      "[('goal_post', [(122, 193), (248, 193), (248, 245), (122, 245)], None, None, False)]\n",
      "[('goal_post', [(622, 120), (934, 120), (934, 289), (622, 289)], None, None, False)]\n",
      "[('goal_post', [(124, 100), (366, 100), (366, 282), (124, 282)], None, None, False)]\n",
      "[('goal_post', [(1174, 101), (1280, 101), (1280, 211), (1174, 211)], None, None, False)]\n",
      "[('goal_post', [(330, 200), (625, 200), (625, 363), (330, 363)], None, None, False)]\n",
      "[('goal_post', [(292, 179), (620, 179), (620, 382), (292, 382)], None, None, False)]\n",
      "[('goal_post', [(161, 34), (369, 34), (369, 179), (161, 179)], None, None, False)]\n",
      "[('goal_post', [(467, 93), (639, 93), (639, 202), (467, 202)], None, None, False)]\n",
      "[('goal_post', [(866, 93), (1079, 93), (1079, 204), (866, 204)], None, None, False)]\n",
      "[('goal_post', [(966, 93), (1280, 93), (1280, 504), (966, 504)], None, None, False)]\n",
      "[('goal_post', [(1, 132), (111, 132), (111, 229), (1, 229)], None, None, False)]\n",
      "[('goal_post', [(1034, 137), (1238, 137), (1238, 256), (1034, 256)], None, None, False)]\n",
      "[('goal_post', [(3, 191), (290, 191), (290, 316), (3, 316)], None, None, False)]\n",
      "[('goal_post', [(188, 106), (451, 106), (451, 232), (188, 232)], None, None, False)]\n",
      "[('goal_post', [(84, 95), (253, 95), (253, 189), (84, 189)], None, None, False)]\n",
      "[('goal_post', [(627, 472), (1280, 472), (1280, 720), (627, 720)], None, None, False)]\n",
      "[('goal_post', [(895, 195), (1074, 195), (1074, 315), (895, 315)], None, None, False)]\n",
      "[('goal_post', [(1093, 160), (1280, 160), (1280, 372), (1093, 372)], None, None, False)]\n",
      "[('goal_post', [(122, 193), (248, 193), (248, 245), (122, 245)], None, None, False)]\n",
      "[('goal_post', [(585, 124), (807, 124), (807, 251), (585, 251)], None, None, False)]\n",
      "[('goal_post', [(622, 120), (934, 120), (934, 289), (622, 289)], None, None, False)]\n",
      "[('goal_post', [(124, 100), (366, 100), (366, 282), (124, 282)], None, None, False)]\n",
      "[('goal_post', [(1174, 101), (1280, 101), (1280, 211), (1174, 211)], None, None, False)]\n",
      "[('goal_post', [(330, 200), (625, 200), (625, 363), (330, 363)], None, None, False)]\n",
      "Image:/home/amazing/Desktop/Sonalysis/GoalPostDetection/images/30.jpeg -> Annotation:/home/amazing/Desktop/Sonalysis/GoalPostDetection/images/30.txt\n"
     ]
    },
    {
     "data": {
      "text/plain": [
       "0"
      ]
     },
     "execution_count": 4,
     "metadata": {},
     "output_type": "execute_result"
    }
   ],
   "source": [
    "\n",
    "\n",
    "'''\n",
    "pyrcc5 takes a Qt Resource File (. qrc) and converts it into a \n",
    "Python module which can be imported into a PyQt5 application.\n",
    "All files loaded by Qt that are prefixed with a colon will be \n",
    "loaded from the resources rather than the file system.\n",
    " '''\n",
    "\n",
    "os.system('cd {} && pyrcc5 -o libs/resources.py resources.qrc'. format(LABELIMG_PATH))\n",
    "\n",
    "# Now run the label Image Script\n",
    "os.system('cd {} && python labelImg.py'.format(LABELIMG_PATH))\n",
    "\n"
   ]
  },
  {
   "cell_type": "code",
   "execution_count": null,
   "id": "57eda563",
   "metadata": {},
   "outputs": [],
   "source": []
  },
  {
   "cell_type": "code",
   "execution_count": null,
   "id": "7dc92cac",
   "metadata": {},
   "outputs": [],
   "source": []
  }
 ],
 "metadata": {
  "kernelspec": {
   "display_name": "Python 3 (ipykernel)",
   "language": "python",
   "name": "python3"
  },
  "language_info": {
   "codemirror_mode": {
    "name": "ipython",
    "version": 3
   },
   "file_extension": ".py",
   "mimetype": "text/x-python",
   "name": "python",
   "nbconvert_exporter": "python",
   "pygments_lexer": "ipython3",
   "version": "3.9.7"
  }
 },
 "nbformat": 4,
 "nbformat_minor": 5
}
