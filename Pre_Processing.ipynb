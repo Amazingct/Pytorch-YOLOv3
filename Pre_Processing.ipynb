{
 "cells": [
  {
   "cell_type": "code",
   "execution_count": 19,
   "id": "a6019447",
   "metadata": {},
   "outputs": [
    {
     "name": "stdout",
     "output_type": "stream",
     "text": [
      "['55.jpeg', '22.jpeg', '147.jpeg', '116.jpeg', '33.jpeg', '117.jpeg', '72.jpeg', '59.jpeg', '23.jpeg', '42.jpeg', '31.jpeg', '26.jpeg', '148.jpeg', '113.jpeg', '39.jpeg', '167.jpeg', '131.jpeg', '3.jpeg', '105.jpeg', '134.jpeg', '68.jpeg', '164.jpeg', '54.jpeg', '19.jpeg', '12.jpeg', '145.jpeg', '156.jpeg', '70.jpeg', '27.jpeg', '121.jpeg', '83.jpeg', '46.jpeg', '14.jpeg', '74.jpeg', '37.jpeg', '63.jpeg', '57.jpeg', '5.jpeg', '108.jpeg', '67.jpeg', '119.jpeg', '75.jpeg', '10.jpeg', '43.jpeg', '114.jpeg', '4.jpeg', '77.jpeg', '95.jpeg', '62.jpeg', '89.jpeg', '118.jpeg', '123.jpeg', '99.jpeg', '1.jpeg', '86.jpeg', '11.jpeg', '28.jpeg', '79.jpeg', '64.jpeg', '84.jpeg']\n",
      "----------\n",
      "['55.txt', '22.txt', '147.txt', '116.txt', '33.txt', '117.txt', '72.txt', '59.txt', '23.txt', '42.txt', '31.txt', '26.txt', '148.txt', '113.txt', '39.txt', '167.txt', '131.txt', '3.txt', '105.txt', '134.txt', '68.txt', '164.txt', '54.txt', '19.txt', '12.txt', '145.txt', '156.txt', '70.txt', '27.txt', '121.txt', '83.txt', '46.txt', '14.txt', '74.txt', '37.txt', '63.txt', '57.txt', '5.txt', '108.txt', '67.txt', '119.txt', '75.txt', '10.txt', '43.txt', '114.txt', '4.txt', '77.txt', '95.txt', '62.txt', '89.txt', '118.txt', '123.txt', '99.txt', '1.txt', '86.txt', '11.txt', '28.txt', '79.txt', '64.txt', '84.txt']\n"
     ]
    }
   ],
   "source": [
    "import os\n",
    "import glob\n",
    "import os\n",
    "import numpy as np\n",
    "import sys\n",
    "imgs = []\n",
    "annos = []\n",
    "\n",
    "for file in os.listdir(\"images\"):\n",
    "    if file != \"classes.txt\" and file.endswith(\"txt\"):\n",
    "        annos.append(file)\n",
    "        imgs.append(file.split(\".\")[0]+\".jpeg\") \n",
    "\n",
    "print(imgs)\n",
    "print(\"----------\")\n",
    "print(annos)\n"
   ]
  },
  {
   "cell_type": "code",
   "execution_count": 20,
   "id": "1f346b4c",
   "metadata": {},
   "outputs": [],
   "source": [
    "#move images and labels\n",
    "import cv2 as cv\n",
    "for image in imgs:\n",
    "    cv.imwrite( \"dataset/images/\"+image, cv.imread(\"images/\" + image))\n",
    "    \n",
    "for an in annos:\n",
    "    os.system(\"cp {} {}\".format(\"images/\"+an, \"dataset/labels/\"+an))"
   ]
  },
  {
   "cell_type": "code",
   "execution_count": 21,
   "id": "d111cc25",
   "metadata": {},
   "outputs": [],
   "source": [
    "#create train and val.txt\n",
    "current_dir = \"dataset/images\"\n",
    "split_pct = 10  # 10% validation set\n",
    "file_train = open(\"dataset/train.txt\", \"w\")  \n",
    "file_val = open(\"dataset/val.txt\", \"w\")  \n",
    "counter = 1  \n",
    "index_test = round(100 / split_pct)  \n",
    "for fullpath in glob.iglob(os.path.join(current_dir, \"*.jpeg\")):  \n",
    "    title, ext = os.path.splitext(os.path.basename(fullpath))\n",
    "    if counter == index_test:\n",
    "        counter = 1\n",
    "        file_val.write(current_dir + \"/\" + title + '.jpeg' + \"\\n\")\n",
    "    else:\n",
    "        file_train.write(current_dir + \"/\" + title + '.jpeg' + \"\\n\")\n",
    "        counter = counter + 1\n",
    "file_train.close()\n",
    "file_val.close()"
   ]
  },
  {
   "cell_type": "code",
   "execution_count": 35,
   "id": "f115f032",
   "metadata": {},
   "outputs": [],
   "source": [
    "# due to label image classes program numbering - change class number\n",
    "for txt in os.listdir(\"dataset/labels\"):\n",
    "    my_file = open(\"dataset/labels/\" + txt, \"r\")\n",
    "    content = my_file.read()\n",
    "    content_new = content.replace(\"15\", \"0\")\n",
    "    my_file.close()\n",
    "    \n",
    "    my_file = open(\"dataset/labels/\" + txt, \"w\")\n",
    "    my_file.write(content_new)\n",
    "    my_file.close()"
   ]
  },
  {
   "cell_type": "code",
   "execution_count": 26,
   "id": "f75e85ae",
   "metadata": {},
   "outputs": [
    {
     "name": "stdout",
     "output_type": "stream",
     "text": [
      "--2022-02-07 00:30:08--  https://pjreddie.com/media/files/yolov3.weights\n",
      "Resolving pjreddie.com (pjreddie.com)... 128.208.4.108\n",
      "Connecting to pjreddie.com (pjreddie.com)|128.208.4.108|:443... connected.\n",
      "HTTP request sent, awaiting response... 200 OK\n",
      "Length: 248007048 (237M) [application/octet-stream]\n",
      "Saving to: ‘yolov3.weights’\n",
      "\n",
      "yolov3.weights        2%[                    ]   6.76M  1.09MB/s    eta 5m 33s ^C\n"
     ]
    }
   ],
   "source": [
    "!cd config\n",
    "!wget https://pjreddie.com/media/files/yolov3.weights"
   ]
  },
  {
   "cell_type": "code",
   "execution_count": null,
   "id": "5218ba74",
   "metadata": {},
   "outputs": [],
   "source": []
  }
 ],
 "metadata": {
  "kernelspec": {
   "display_name": "Python 3 (ipykernel)",
   "language": "python",
   "name": "python3"
  },
  "language_info": {
   "codemirror_mode": {
    "name": "ipython",
    "version": 3
   },
   "file_extension": ".py",
   "mimetype": "text/x-python",
   "name": "python",
   "nbconvert_exporter": "python",
   "pygments_lexer": "ipython3",
   "version": "3.9.7"
  }
 },
 "nbformat": 4,
 "nbformat_minor": 5
}
